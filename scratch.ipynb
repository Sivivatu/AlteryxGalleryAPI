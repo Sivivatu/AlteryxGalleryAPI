{
 "cells": [
  {
   "cell_type": "code",
   "execution_count": null,
   "metadata": {},
   "outputs": [
    {
     "ename": "",
     "evalue": "",
     "output_type": "error",
     "traceback": [
      "\u001b[1;31mRunning cells with 'alteryxgalleryapi-3eRf9B6E-py3.11 (Python 3.11.6)' requires the ipykernel package.\n",
      "\u001b[1;31mRun the following command to install 'ipykernel' into the Python environment. \n",
      "\u001b[1;31mCommand: '/home/fatpunk/.cache/pypoetry/virtualenvs/alteryxgalleryapi-3eRf9B6E-py3.11/bin/python -m pip install ipykernel -U --force-reinstall'"
     ]
    }
   ],
   "source": [
    "import os\n",
    "from pathlib import Path\n",
    "\n",
    "import requests\n",
    "from AlteryxGallery import AlteryxGalleryAPI\n"
   ]
  },
  {
   "cell_type": "code",
   "execution_count": null,
   "metadata": {},
   "outputs": [],
   "source": [
    "from dotenv import load_dotenv\n",
    "\n",
    "load_dotenv()\n",
    "\n",
    "host_url: str = os.getenv(\"HOST_URL\", \"NoValueFound\")\n",
    "\n",
    "client_id: str = os.getenv(\"CLIENT_ID\", \"NoValueFound\")\n",
    "client_secret: str = os.getenv(\"CLIENT_SECRET\", \"NoValueFound\")\n",
    "owner_id: str = os.getenv(\"TEST_OWNER_ID\", \"NoValueFound\")\n",
    "file_path = Path(\"tests/Test_Upload.yxzp\")"
   ]
  },
  {
   "cell_type": "code",
   "execution_count": null,
   "metadata": {},
   "outputs": [],
   "source": [
    "client = AlteryxGalleryAPI.GalleryClient(\n",
    "    host_url=host_url, client_id=client_id, client_secret=client_secret\n",
    ")\n",
    "print(client)\n"
   ]
  }
 ],
 "metadata": {
  "kernelspec": {
   "display_name": "alteryxgalleryapi-3eRf9B6E-py3.11",
   "language": "python",
   "name": "python3"
  },
  "language_info": {
   "name": "python",
   "version": "3.11.6"
  }
 },
 "nbformat": 4,
 "nbformat_minor": 2
}
